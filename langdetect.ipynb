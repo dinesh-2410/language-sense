{
 "cells": [
  {
   "cell_type": "code",
   "execution_count": null,
   "metadata": {},
   "outputs": [],
   "source": [
    "! pip install -r requirements.txt"
   ]
  },
  {
   "cell_type": "code",
   "execution_count": 9,
   "metadata": {},
   "outputs": [
    {
     "name": "stdout",
     "output_type": "stream",
     "text": [
      "Detected Language Code: fr\n",
      "Detected Language Name: French\n"
     ]
    }
   ],
   "source": [
    "from langdetect import detect, DetectorFactory\n",
    "from langdetect.lang_detect_exception import LangDetectException\n",
    "import pycountry\n",
    "\n",
    "# Set seed for consistent language detection results\n",
    "DetectorFactory.seed = 0\n",
    "\n",
    "def detect_language(text):\n",
    "    \"\"\"\n",
    "    Detect the language of the given text and return its code and full name.\n",
    "    \"\"\"\n",
    "    try:\n",
    "        # Detect the language code\n",
    "        language_code = detect(text)\n",
    "        \n",
    "        # Get the full language name\n",
    "        language = pycountry.languages.get(alpha_2=language_code)\n",
    "        language_name = language.name if language else \"Unknown Language\"\n",
    "        \n",
    "        return language_code, language_name\n",
    "    except LangDetectException:\n",
    "        return None, \"Could not detect language\"\n",
    "\n",
    "# Example usage\n",
    "text = \"Bonjour, comment ça va ?\"  # Replace with your text\n",
    "language_code, language_name = detect_language(text)\n",
    "\n",
    "if language_code:\n",
    "    print(f\"Detected Language Code: {language_code}\")\n",
    "    print(f\"Detected Language Name: {language_name}\")\n",
    "else:\n",
    "    print(f\"Error: {language_name}\")\n"
   ]
  },
  {
   "cell_type": "code",
   "execution_count": 11,
   "metadata": {},
   "outputs": [
    {
     "name": "stdout",
     "output_type": "stream",
     "text": [
      "Extracting audio...\n",
      "Converting audio to text...\n",
      "Detected text: skin O Mere Pyar\n",
      "Detected language code: tr\n",
      "Detected language name: Turkish\n"
     ]
    },
    {
     "data": {
      "text/plain": [
       "('tr', 'Turkish')"
      ]
     },
     "execution_count": 11,
     "metadata": {},
     "output_type": "execute_result"
    }
   ],
   "source": [
    "import speech_recognition as sr\n",
    "from langdetect import detect, DetectorFactory\n",
    "from langdetect.lang_detect_exception import LangDetectException\n",
    "import pycountry\n",
    "\n",
    "# Set seed for consistent language detection results\n",
    "DetectorFactory.seed = 0\n",
    "\n",
    "def get_language_name(language_code):\n",
    "    \"\"\"\n",
    "    Convert language code to full language name.\n",
    "    \"\"\"\n",
    "    try:\n",
    "        language = pycountry.languages.get(alpha_2=language_code)\n",
    "        if language:\n",
    "            return language.name\n",
    "        else:\n",
    "            return \"Unknown Language\"\n",
    "    except Exception as e:\n",
    "        return \"Unknown Language\"\n",
    "\n",
    "def detect_language_from_audio(audio_file_path):\n",
    "    try:\n",
    "        # Initialize the recognizer\n",
    "        recognizer = sr.Recognizer()\n",
    "\n",
    "        # Load the audio file\n",
    "        with sr.AudioFile(audio_file_path) as source:\n",
    "            print(\"Extracting audio...\")\n",
    "            audio_data = recognizer.record(source)\n",
    "\n",
    "        # Convert audio to text\n",
    "        print(\"Converting audio to text...\")\n",
    "        text = recognizer.recognize_google(audio_data)\n",
    "\n",
    "        # Detect the language of the text\n",
    "        print(f\"Detected text: {text}\")\n",
    "        language_code = detect(text)\n",
    "        language_name = get_language_name(language_code)\n",
    "\n",
    "        # Print the results\n",
    "        print(f\"Detected language code: {language_code}\")\n",
    "        print(f\"Detected language name: {language_name}\")\n",
    "\n",
    "        return language_code, language_name\n",
    "\n",
    "    except sr.UnknownValueError:\n",
    "        print(\"Could not understand the audio.\")\n",
    "    except sr.RequestError as e:\n",
    "        print(f\"Error with the speech recognition service: {e}\")\n",
    "    except LangDetectException:\n",
    "        print(\"Could not detect the language.\")\n",
    "    except Exception as e:\n",
    "        print(f\"An error occurred: {e}\")\n",
    "\n",
    "# Example usage\n",
    "audio_file_path = \"De Una Vez Selena Gomez test.wav\"  # Replace with the path to your audio file\n",
    "detect_language_from_audio(audio_file_path)\n"
   ]
  }
 ],
 "metadata": {
  "language_info": {
   "name": "python"
  }
 },
 "nbformat": 4,
 "nbformat_minor": 2
}
